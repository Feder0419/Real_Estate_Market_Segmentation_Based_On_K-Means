{
 "cells": [
  {
   "cell_type": "code",
   "execution_count": 1,
   "id": "4cfae4e1-a352-42e3-b96a-ae4b9b2c4061",
   "metadata": {
    "scrolled": true
   },
   "outputs": [],
   "source": [
    "import cv2\n",
    "import numpy as np\n",
    "import matplotlib.pyplot as plt\n",
    "import rasterio as ra\n",
    "from PIL import Image"
   ]
  },
  {
   "cell_type": "code",
   "execution_count": 2,
   "id": "f649aa90-cb9a-46a9-b213-fae4d7899d62",
   "metadata": {},
   "outputs": [],
   "source": [
    "image_path='./py/KMeanMat_5E05.tif'"
   ]
  },
  {
   "cell_type": "code",
   "execution_count": 3,
   "id": "eb6458f7-cc72-4f5c-8075-4a9f78eec52c",
   "metadata": {},
   "outputs": [],
   "source": [
    "def raster_write(output_file,data,count,crs,transform):#(路径，矩阵数据，波段数，坐标系统，仿射关系）\n",
    "    writer=ra.open(output_file,mode='w+',driver='GTiff',height=data.shape[-2],width=data.shape[-1],\n",
    "                   count=count,dtype=np.float32,crs=crs,transform=transform)\n",
    "    for i in range(1,count+1):\n",
    "        writer.write(data[i-1],i)\n",
    "    writer.close()\n",
    "\n",
    "with ra.open(image_path) as originial_image:\n",
    "    data=originial_image.read() #栅格数据\n",
    "    transform=originial_image.transform #仿射关系\n",
    "    crs=originial_image.crs #坐标系统\n",
    "    count=originial_image.count #波段数\n"
   ]
  },
  {
   "cell_type": "code",
   "execution_count": 4,
   "id": "830324d7-251e-46b0-8619-794a6a0e2344",
   "metadata": {},
   "outputs": [],
   "source": [
    "img=data[0] #读取灰度图"
   ]
  },
  {
   "cell_type": "code",
   "execution_count": 5,
   "id": "6f2d6be9-db65-4fe1-94ef-73296c396512",
   "metadata": {},
   "outputs": [],
   "source": [
    "raster_write('./py/result.tif',data,1,crs,transform)"
   ]
  },
  {
   "cell_type": "code",
   "execution_count": 6,
   "id": "c84e302a-4a6c-4c56-b540-971510403ec5",
   "metadata": {},
   "outputs": [
    {
     "name": "stdout",
     "output_type": "stream",
     "text": [
      "(1, 25162, 25000)\n"
     ]
    }
   ],
   "source": [
    "#检查读取是否成功\n",
    "band,rows,cols=data.shape\n",
    "print(data.shape)"
   ]
  },
  {
   "cell_type": "code",
   "execution_count": 7,
   "id": "32d1e955-fa55-4f2b-8bd7-0f5d34ccb9a7",
   "metadata": {},
   "outputs": [],
   "source": [
    "#进行高斯平滑处理\n",
    "blurred_image=cv2.GaussianBlur(img,(3,3),0)"
   ]
  },
  {
   "cell_type": "code",
   "execution_count": 8,
   "id": "24788546-689f-4b43-bec8-e3cef83a1ea8",
   "metadata": {},
   "outputs": [],
   "source": [
    "#Sobel边界检测运算\n",
    "Gx=cv2.Sobel(blurred_image,cv2.CV_64F,1,0,ksize=3)\n",
    "Gy=cv2.Sobel(blurred_image,cv2.CV_64F,0,1,ksize=3)\n",
    "#Gradient magnitude\n",
    "G=np.sqrt(Gx**2+Gy**2)"
   ]
  },
  {
   "cell_type": "code",
   "execution_count": 9,
   "id": "a425c8c5-5bb7-4b71-bf1b-2a698a0eead8",
   "metadata": {},
   "outputs": [],
   "source": [
    "#标准化至0-255范围\n",
    "Gx=np.uint8(255*np.abs(Gx)/np.max(Gx))\n",
    "Gy = np.uint8(255 * np.abs(Gy) / np.max(Gy))\n",
    "G = np.uint8(255 * G / np.max(G))"
   ]
  },
  {
   "cell_type": "code",
   "execution_count": 10,
   "id": "39d8716b-6aa9-4fe6-9526-387b721717f4",
   "metadata": {},
   "outputs": [],
   "source": [
    "image=Image.fromarray(G)\n",
    "image.save('./py/edge_detected.tiff')\n"
   ]
  },
  {
   "cell_type": "code",
   "execution_count": 13,
   "id": "dad4dc6d-4e29-49f5-a98a-bf334d9ab346",
   "metadata": {},
   "outputs": [
    {
     "name": "stdout",
     "output_type": "stream",
     "text": [
      "唯一取值: [  0   1   2   3   4   5   6   7   8   9  10  11  12  13  14  15  16  17\n",
      "  18  19  20  21  22  23  24  25  26  27  28  29  30  31  32  33  34  35\n",
      "  36  37  38  39  40  41  42  43  44  45  46  47  48  49  50  51  52  53\n",
      "  54  55  56  57  58  59  60  61  62  63  64  65  66  67  68  69  70  71\n",
      "  72  73  74  75  76  77  78  79  80  81  82  83  84  85  86  87  88  89\n",
      "  90  91  92  93  94  95  96  97  98  99 100 101 102 103 104 105 106 107\n",
      " 108 109 110 111 112 113 114 115 116 117 118 119 120 121 122 123 124 125\n",
      " 126 127 128 129 130 131 132 133 134 135 136 137 138 139 140 141 142 143\n",
      " 144 145 146 147 148 149 150 151 152 153 154 155 156 157 158 159 160 161\n",
      " 162 163 164 165 166 167 168 169 170 171 172 173 174 175 176 177 178 179\n",
      " 180 181 182 183 184 185 186 187 188 189 190 191 192 193 194 195 196 197\n",
      " 198 199 200 201 202 203 204 205 206 207 208 209 210 211 212 213 214 215\n",
      " 216 217 218 219 220 221 222 223 224 225 226 227 228 229 230 231 232 233\n",
      " 234 235 236 237 238 239 240 241 242 243 244 245 246 249 250 251 252 253\n",
      " 254 255]\n"
     ]
    }
   ],
   "source": [
    "unique_values=np.unique(G)\n",
    "print(f\"唯一取值: {unique_values}\")"
   ]
  },
  {
   "cell_type": "code",
   "execution_count": 15,
   "id": "0b1b5d4a-777c-47ff-b973-7647adceec37",
   "metadata": {},
   "outputs": [],
   "source": [
    "standard_G=G\n",
    "standard_G[standard_G!=0]=255"
   ]
  },
  {
   "cell_type": "code",
   "execution_count": 16,
   "id": "86cf3046-ff49-418d-a508-44d7b36f516c",
   "metadata": {},
   "outputs": [],
   "source": [
    "image=Image.fromarray(standard_G)\n",
    "image.save('./py/edge_detected_standardlized.tiff')"
   ]
  },
  {
   "cell_type": "code",
   "execution_count": null,
   "id": "5967cb90-a718-4d0c-a316-27da7a431c75",
   "metadata": {},
   "outputs": [],
   "source": []
  }
 ],
 "metadata": {
  "kernelspec": {
   "display_name": "Python 3 (ipykernel)",
   "language": "python",
   "name": "python3"
  },
  "language_info": {
   "codemirror_mode": {
    "name": "ipython",
    "version": 3
   },
   "file_extension": ".py",
   "mimetype": "text/x-python",
   "name": "python",
   "nbconvert_exporter": "python",
   "pygments_lexer": "ipython3",
   "version": "3.11.9"
  }
 },
 "nbformat": 4,
 "nbformat_minor": 5
}
