{
 "cells": [
  {
   "cell_type": "code",
   "execution_count": null,
   "id": "84d52ed9-528a-44ef-af76-8153ab551276",
   "metadata": {},
   "outputs": [],
   "source": [
    "from sklearn.base import BaseEstimator, ClusterMixin\n",
    "from sklearn.utils import check_array\n",
    "import numpy as np\n",
    "\n",
    "class CustomKMeans(BaseEstimator, ClusterMixin):\n",
    "    def __init__(self, n_clusters=10, max_iter=300, tol=1e-4, random_state=None, coeff=1):\n",
    "        self.n_clusters = n_clusters\n",
    "        self.max_iter = max_iter\n",
    "        self.tol = tol\n",
    "        self.random_state = random_state\n",
    "        self.coeff = coeff\n",
    "\n",
    "    def fit(self, X):\n",
    "        X = check_array(X)\n",
    "        n_samples, n_features = X.shape\n",
    "\n",
    "        # 初始化质心\n",
    "        rng = np.random.RandomState(self.random_state)\n",
    "        centroids = X[rng.permutation(n_samples)[:self.n_clusters]]\n",
    "\n",
    "        for i in range(self.max_iter):\n",
    "            # 分配簇\n",
    "            labels = self._assign_clusters(X, centroids)\n",
    "            \n",
    "            # 计算新质心\n",
    "            new_centroids = np.array([X[labels == j].mean(axis=0) for j in range(self.n_clusters)])\n",
    "            \n",
    "            # 检查收敛\n",
    "            if np.all(np.linalg.norm(new_centroids - centroids, axis=1) < self.tol):\n",
    "                break\n",
    "            \n",
    "            centroids = new_centroids\n",
    "\n",
    "        self.cluster_centers_ = centroids\n",
    "        self.labels_ = labels\n",
    "        return self\n",
    "\n",
    "    def _assign_clusters(self, X, centroids):\n",
    "        # 自定义距离函数：例如使用曼哈顿距离\n",
    "        distances = np.array([[np.sum((x - centroid)) for centroid in centroids] for x in X])\n",
    "        return np.argmin(distances, axis=1)\n",
    "\n",
    "# 使用自定义的KMeans类\n",
    "X = np.random.rand(100, 2)  # 示例数据\n",
    "custom_kmeans = CustomKMeans(n_clusters=3, random_state=42)\n",
    "custom_kmeans.fit(X)\n",
    "\n",
    "print(\"质心：\", custom_kmeans.cluster_centers_)\n",
    "print(\"标签：\", custom_kmeans.labels_)\n"
   ]
  }
 ],
 "metadata": {
  "kernelspec": {
   "display_name": "Python 3 (ipykernel)",
   "language": "python",
   "name": "python3"
  },
  "language_info": {
   "codemirror_mode": {
    "name": "ipython",
    "version": 3
   },
   "file_extension": ".py",
   "mimetype": "text/x-python",
   "name": "python",
   "nbconvert_exporter": "python",
   "pygments_lexer": "ipython3",
   "version": "3.12.4"
  }
 },
 "nbformat": 4,
 "nbformat_minor": 5
}
